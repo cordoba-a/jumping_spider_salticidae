{
 "cells": [
  {
   "cell_type": "markdown",
   "id": "e7e0eaa0-49f1-4c8b-952b-b91d53f9605b",
   "metadata": {},
   "source": [
    "## Importación de librerias "
   ]
  },
  {
   "cell_type": "code",
   "execution_count": 1,
   "id": "a3f14931-6f4b-437a-9b6e-78b000d71b7f",
   "metadata": {},
   "outputs": [],
   "source": [
    "# importamos las librerias necesarias\n",
    "import pandas as pd"
   ]
  },
  {
   "cell_type": "markdown",
   "id": "46d92f55-7f31-4b9d-a1cd-43e3ce2d2b08",
   "metadata": {},
   "source": [
    "## Carga del archivo CSV"
   ]
  },
  {
   "cell_type": "code",
   "execution_count": 2,
   "id": "42567837-a400-4569-9f54-1f26118cfc77",
   "metadata": {},
   "outputs": [],
   "source": [
    "# cargar el documento csv con pd.read_csv, creando el dataframe\n",
    "df = pd.read_csv('/Users/stam/Documents/Documents_MacBook_Eduardo/GitHub/jumping_spider_salticidae/datasets/world_spider_catalog_v25_5.csv')"
   ]
  },
  {
   "cell_type": "markdown",
   "id": "daf11441-038a-40ad-91da-f1d0f392cb8b",
   "metadata": {},
   "source": [
    "## Limpieza de datos"
   ]
  },
  {
   "cell_type": "code",
   "execution_count": 3,
   "id": "805c9305-0e99-44ab-a989-f076e1298aef",
   "metadata": {},
   "outputs": [
    {
     "data": {
      "text/html": [
       "<div>\n",
       "<style scoped>\n",
       "    .dataframe tbody tr th:only-of-type {\n",
       "        vertical-align: middle;\n",
       "    }\n",
       "\n",
       "    .dataframe tbody tr th {\n",
       "        vertical-align: top;\n",
       "    }\n",
       "\n",
       "    .dataframe thead th {\n",
       "        text-align: right;\n",
       "    }\n",
       "</style>\n",
       "<table border=\"1\" class=\"dataframe\">\n",
       "  <thead>\n",
       "    <tr style=\"text-align: right;\">\n",
       "      <th></th>\n",
       "      <th>variable</th>\n",
       "      <th>completitud</th>\n",
       "    </tr>\n",
       "  </thead>\n",
       "  <tbody>\n",
       "    <tr>\n",
       "      <th>0</th>\n",
       "      <td>speciesId</td>\n",
       "      <td>100.000000</td>\n",
       "    </tr>\n",
       "    <tr>\n",
       "      <th>1</th>\n",
       "      <td>species_lsid</td>\n",
       "      <td>100.000000</td>\n",
       "    </tr>\n",
       "    <tr>\n",
       "      <th>2</th>\n",
       "      <td>family</td>\n",
       "      <td>100.000000</td>\n",
       "    </tr>\n",
       "    <tr>\n",
       "      <th>3</th>\n",
       "      <td>genus</td>\n",
       "      <td>100.000000</td>\n",
       "    </tr>\n",
       "    <tr>\n",
       "      <th>4</th>\n",
       "      <td>species</td>\n",
       "      <td>100.000000</td>\n",
       "    </tr>\n",
       "    <tr>\n",
       "      <th>5</th>\n",
       "      <td>subspecies</td>\n",
       "      <td>0.838435</td>\n",
       "    </tr>\n",
       "    <tr>\n",
       "      <th>6</th>\n",
       "      <td>author</td>\n",
       "      <td>100.000000</td>\n",
       "    </tr>\n",
       "    <tr>\n",
       "      <th>7</th>\n",
       "      <td>year</td>\n",
       "      <td>100.000000</td>\n",
       "    </tr>\n",
       "    <tr>\n",
       "      <th>8</th>\n",
       "      <td>parentheses</td>\n",
       "      <td>100.000000</td>\n",
       "    </tr>\n",
       "    <tr>\n",
       "      <th>9</th>\n",
       "      <td>distribution</td>\n",
       "      <td>99.998099</td>\n",
       "    </tr>\n",
       "  </tbody>\n",
       "</table>\n",
       "</div>"
      ],
      "text/plain": [
       "       variable  completitud\n",
       "0     speciesId   100.000000\n",
       "1  species_lsid   100.000000\n",
       "2        family   100.000000\n",
       "3         genus   100.000000\n",
       "4       species   100.000000\n",
       "5    subspecies     0.838435\n",
       "6        author   100.000000\n",
       "7          year   100.000000\n",
       "8   parentheses   100.000000\n",
       "9  distribution    99.998099"
      ]
     },
     "execution_count": 3,
     "metadata": {},
     "output_type": "execute_result"
    }
   ],
   "source": [
    "# se verifica la completitud de las variables (valores nulos existentes)\n",
    "# se utiliza la función .sum() para sumar los elementos que están vacíos (.isnull())\n",
    "nulos = df.isnull().sum()\n",
    "\n",
    "# calculo del porcentaje de completitud\n",
    "completitud = pd.DataFrame(100 - (nulos / len(df) * 100))\n",
    "\n",
    "# reset_index se utiliza para resetear los índices\n",
    "# inplace = True sirve para evitar la repetición\n",
    "completitud.reset_index(inplace = True)\n",
    "# se coloan encebezados\n",
    "completitud = completitud.rename(columns = {\"index\":\"variable\",0:\"completitud\"})\n",
    "\n",
    "# ordenamos las columnas con menor completitud en adelante\n",
    "completitud.sort_values(by ='completitud', ascending = True)\n",
    "completitud"
   ]
  },
  {
   "cell_type": "code",
   "execution_count": 4,
   "id": "c72aafd1-15d2-421b-bd23-bdf2b1c9abe7",
   "metadata": {},
   "outputs": [],
   "source": [
    "# eliminacion de los datos duplicados\n",
    "df.drop_duplicates(inplace=True)\n",
    "df = df.dropna(subset=['distribution'])"
   ]
  },
  {
   "cell_type": "code",
   "execution_count": 5,
   "id": "1388d91d-f745-4600-b629-6eae7f65bee7",
   "metadata": {},
   "outputs": [
    {
     "data": {
      "text/html": [
       "<div>\n",
       "<style scoped>\n",
       "    .dataframe tbody tr th:only-of-type {\n",
       "        vertical-align: middle;\n",
       "    }\n",
       "\n",
       "    .dataframe tbody tr th {\n",
       "        vertical-align: top;\n",
       "    }\n",
       "\n",
       "    .dataframe thead th {\n",
       "        text-align: right;\n",
       "    }\n",
       "</style>\n",
       "<table border=\"1\" class=\"dataframe\">\n",
       "  <thead>\n",
       "    <tr style=\"text-align: right;\">\n",
       "      <th></th>\n",
       "      <th>variable</th>\n",
       "      <th>completitud</th>\n",
       "    </tr>\n",
       "  </thead>\n",
       "  <tbody>\n",
       "    <tr>\n",
       "      <th>0</th>\n",
       "      <td>speciesId</td>\n",
       "      <td>100.000000</td>\n",
       "    </tr>\n",
       "    <tr>\n",
       "      <th>1</th>\n",
       "      <td>species_lsid</td>\n",
       "      <td>100.000000</td>\n",
       "    </tr>\n",
       "    <tr>\n",
       "      <th>2</th>\n",
       "      <td>family</td>\n",
       "      <td>100.000000</td>\n",
       "    </tr>\n",
       "    <tr>\n",
       "      <th>3</th>\n",
       "      <td>genus</td>\n",
       "      <td>100.000000</td>\n",
       "    </tr>\n",
       "    <tr>\n",
       "      <th>4</th>\n",
       "      <td>species</td>\n",
       "      <td>100.000000</td>\n",
       "    </tr>\n",
       "    <tr>\n",
       "      <th>5</th>\n",
       "      <td>subspecies</td>\n",
       "      <td>0.838451</td>\n",
       "    </tr>\n",
       "    <tr>\n",
       "      <th>6</th>\n",
       "      <td>author</td>\n",
       "      <td>100.000000</td>\n",
       "    </tr>\n",
       "    <tr>\n",
       "      <th>7</th>\n",
       "      <td>year</td>\n",
       "      <td>100.000000</td>\n",
       "    </tr>\n",
       "    <tr>\n",
       "      <th>8</th>\n",
       "      <td>parentheses</td>\n",
       "      <td>100.000000</td>\n",
       "    </tr>\n",
       "    <tr>\n",
       "      <th>9</th>\n",
       "      <td>distribution</td>\n",
       "      <td>100.000000</td>\n",
       "    </tr>\n",
       "  </tbody>\n",
       "</table>\n",
       "</div>"
      ],
      "text/plain": [
       "       variable  completitud\n",
       "0     speciesId   100.000000\n",
       "1  species_lsid   100.000000\n",
       "2        family   100.000000\n",
       "3         genus   100.000000\n",
       "4       species   100.000000\n",
       "5    subspecies     0.838451\n",
       "6        author   100.000000\n",
       "7          year   100.000000\n",
       "8   parentheses   100.000000\n",
       "9  distribution   100.000000"
      ]
     },
     "execution_count": 5,
     "metadata": {},
     "output_type": "execute_result"
    }
   ],
   "source": [
    "# se verifica la completitud de las variables (valores nulos existentes)\n",
    "# se utiliza la función .sum() para sumar los elementos que están vacíos (.isnull())\n",
    "nulos = df.isnull().sum()\n",
    "\n",
    "# calculo del porcentaje de completitud\n",
    "completitud = pd.DataFrame(100 - (nulos / len(df) * 100))\n",
    "\n",
    "# reset_index se utiliza para resetear los índices\n",
    "# inplace = True sirve para evitar la repetición\n",
    "completitud.reset_index(inplace = True)\n",
    "# se coloan encebezados\n",
    "completitud = completitud.rename(columns = {\"index\":\"variable\",0:\"completitud\"})\n",
    "\n",
    "# ordenamos las columnas con menor completitud en adelante\n",
    "completitud.sort_values(by ='completitud', ascending = True)\n",
    "completitud"
   ]
  },
  {
   "cell_type": "code",
   "execution_count": 6,
   "id": "01a574c0-00e8-4175-a454-d3d99116edd4",
   "metadata": {},
   "outputs": [
    {
     "name": "stdout",
     "output_type": "stream",
     "text": [
      "Número de filas: 52597\n",
      "Número de columnas: 10\n"
     ]
    }
   ],
   "source": [
    "# dimensión del dataframe con eliminacion de datos duplicados\n",
    "print(f\"Número de filas: {df.shape[0]}\")\n",
    "print(f\"Número de columnas: {df.shape[1]}\")"
   ]
  },
  {
   "cell_type": "markdown",
   "id": "f6bce602-fa90-4d87-b947-5590bf225c40",
   "metadata": {},
   "source": [
    "## Filtrado de registros"
   ]
  },
  {
   "cell_type": "markdown",
   "id": "4d65e4ee-8438-4ded-8381-c897a27ff6d9",
   "metadata": {},
   "source": [
    "### Arañas salticidae en México y otros paÍses"
   ]
  },
  {
   "cell_type": "code",
   "execution_count": 7,
   "id": "500fa9ba-f983-4d8b-ba06-5d7072af6389",
   "metadata": {},
   "outputs": [
    {
     "name": "stdout",
     "output_type": "stream",
     "text": [
      "Total de registros donde 'distribution' es 'Mexico' y 'family' es 'Salticidae': 255\n"
     ]
    }
   ],
   "source": [
    "# Filtrar las filas donde 'distribution' sea 'Mexico' y 'family' sea 'Salticidae'\n",
    "df_salticidae_mexico_world = df[\n",
    "    (df['distribution'].str.contains('Mexico', na=False, case=False)) & \n",
    "    (df['family'] == 'Salticidae')\n",
    "]\n",
    "\n",
    "# Verificar cuántos registros hay en el nuevo DataFrame\n",
    "print(f\"Total de registros donde 'distribution' es 'Mexico' y 'family' es 'Salticidae': {len(df_salticidae_mexico_world)}\")"
   ]
  },
  {
   "cell_type": "markdown",
   "id": "a4aac0ef-70e6-497e-afe1-5639142fa350",
   "metadata": {},
   "source": [
    "### Arañas salticidae en México"
   ]
  },
  {
   "cell_type": "code",
   "execution_count": 8,
   "id": "1468285c-5574-4c17-a4d9-586b0fa2aba7",
   "metadata": {},
   "outputs": [
    {
     "name": "stdout",
     "output_type": "stream",
     "text": [
      "Total de registros donde 'distribution' es 'Mexico' y 'family' es 'Salticidae': 105\n"
     ]
    }
   ],
   "source": [
    "# Filtrar las filas donde 'distribution' sea 'Mexico' y 'family' sea 'Salticidae'\n",
    "df_salticidae_mexico = df[\n",
    "    (df['distribution']== 'Mexico') & \n",
    "    (df['family'] == 'Salticidae')\n",
    "]\n",
    "\n",
    "# Verificar cuántos registros hay en el nuevo DataFrame\n",
    "print(f\"Total de registros donde 'distribution' es 'Mexico' y 'family' es 'Salticidae': {len(df_salticidae_mexico)}\")"
   ]
  },
  {
   "cell_type": "markdown",
   "id": "b31c9905-f482-4553-a400-e701d9adb6ff",
   "metadata": {},
   "source": [
    "### Guardar dataframes en archivos CSV"
   ]
  },
  {
   "cell_type": "code",
   "execution_count": 9,
   "id": "55295182-d4cc-4c27-bf98-9654eb44c5ad",
   "metadata": {},
   "outputs": [
    {
     "name": "stdout",
     "output_type": "stream",
     "text": [
      "DataFrame guardado en salticidae_mexico_world_wsc.csv\n"
     ]
    }
   ],
   "source": [
    "# Guardar el dataframe en un archivo CSV\n",
    "df_salticidae_mexico_world.to_csv('salticidae_mexico_world_wsc.csv', index=False)\n",
    "\n",
    "print(\"DataFrame guardado en salticidae_mexico_world_wsc.csv\")"
   ]
  },
  {
   "cell_type": "code",
   "execution_count": 10,
   "id": "1ad3fa2d-fce0-4ace-858e-b4c360f129e2",
   "metadata": {},
   "outputs": [
    {
     "name": "stdout",
     "output_type": "stream",
     "text": [
      "DataFrame guardado en salticidae_mexico_wsc.csv\n"
     ]
    }
   ],
   "source": [
    "# Guardar el dataframe en un archivo CSV\n",
    "df_salticidae_mexico.to_csv('salticidae_mexico_wsc.csv', index=False)\n",
    "\n",
    "print(\"DataFrame guardado en salticidae_mexico_wsc.csv\")"
   ]
  }
 ],
 "metadata": {
  "kernelspec": {
   "display_name": "base",
   "language": "python",
   "name": "python3"
  },
  "language_info": {
   "codemirror_mode": {
    "name": "ipython",
    "version": 3
   },
   "file_extension": ".py",
   "mimetype": "text/x-python",
   "name": "python",
   "nbconvert_exporter": "python",
   "pygments_lexer": "ipython3",
   "version": "3.12.2"
  }
 },
 "nbformat": 4,
 "nbformat_minor": 5
}
