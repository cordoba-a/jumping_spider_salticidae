{
 "cells": [
  {
   "cell_type": "code",
   "execution_count": 1,
   "metadata": {},
   "outputs": [],
   "source": [
    "import pytesseract\n",
    "from PIL import Image\n",
    "import pandas as pd\n",
    "import re"
   ]
  },
  {
   "cell_type": "code",
   "execution_count": 5,
   "metadata": {},
   "outputs": [
    {
     "data": {
      "text/plain": [
       "'CLAVE ENTIDAD FEDERATIVA\\n\\n1 Aguascalientes\\n\\n2 Baja California\\n\\n3 Baja California Sur\\n4 Campeche\\n\\n5 Coahuila de Zaragoza\\n6 Colima\\n\\n7 Chiapas\\n\\n8 (Chihuahua\\n\\n9 Ciudad de México\\n10 Durango\\n\\n11 Guanajuato\\n\\n12 Guerrero\\n\\n13 Hidalgo\\n\\n14 Jalisco\\n\\n15 Edo. de México\\n\\n16 Michoacan de Ocampo\\n17 Morelos\\n\\n18 Nayarit\\n\\n19 Nuevo Leén\\n\\n20 Oaxaca\\n\\n21 Puebla\\n\\n22 Querétaro\\n\\n23 Quintana Roo\\n\\n24 San Luis Potosi\\n\\n25 Sinaloa\\n\\n26 Sonora\\n\\n27 Tabasco\\n\\n28 Tamaulipas\\n\\n29 Tlaxcala\\n\\n30 Veracruz de Ignacio de la Llave\\n31 Yucatan\\n\\n32 Zacatecas\\n\\n33 Nacional\\n\\n34 Extranjero\\n\\n'"
      ]
     },
     "execution_count": 5,
     "metadata": {},
     "output_type": "execute_result"
    }
   ],
   "source": [
    "# Ruta de la imagen subida\n",
    "image_path = \"/Users/stam/Documents/Documents_MacBook_Eduardo/GitHub/jumping_spider_salticidae/imagenes/entidades_federativas.png\"\n",
    "\n",
    "# Extraer texto de la imagen usando pytesseract\n",
    "image = Image.open(image_path)\n",
    "text = pytesseract.image_to_string(image)\n",
    "\n",
    "# Mostrar el texto extraído (para referencia)\n",
    "text"
   ]
  },
  {
   "cell_type": "code",
   "execution_count": 8,
   "metadata": {},
   "outputs": [],
   "source": [
    "def separar_clave_entidad_federativa(text):\n",
    "    \"\"\"Separa matrículas y nombres de un texto con formato irregular.\n",
    "\n",
    "    Args:\n",
    "        texto: Cadena de texto con múltiples líneas de datos.\n",
    "\n",
    "    Returns:\n",
    "        Lista de tuplas, donde cada tupla contiene la matrícula y el nombre.\n",
    "    \"\"\"\n",
    "\n",
    "    resultados = []\n",
    "    for linea in text.splitlines():\n",
    "        # Eliminar caracteres no deseados\n",
    "        linea_limpia = re.sub(r\"[^\\w\\s]\", \"\", linea)\n",
    "        # Dividir la línea por el primer espacio\n",
    "        partes = linea_limpia.split(\" \", 1)\n",
    "        if len(partes) == 2:\n",
    "            clave, entidad_federativa = partes\n",
    "            resultados.append((clave, entidad_federativa))\n",
    "    return resultados"
   ]
  },
  {
   "cell_type": "code",
   "execution_count": 9,
   "metadata": {},
   "outputs": [
    {
     "name": "stdout",
     "output_type": "stream",
     "text": [
      "[('CLAVE', 'ENTIDAD FEDERATIVA'), ('1', 'Aguascalientes'), ('2', 'Baja California'), ('3', 'Baja California Sur'), ('4', 'Campeche'), ('5', 'Coahuila de Zaragoza'), ('6', 'Colima'), ('7', 'Chiapas'), ('8', 'Chihuahua'), ('9', 'Ciudad de México'), ('10', 'Durango'), ('11', 'Guanajuato'), ('12', 'Guerrero'), ('13', 'Hidalgo'), ('14', 'Jalisco'), ('15', 'Edo de México'), ('16', 'Michoacan de Ocampo'), ('17', 'Morelos'), ('18', 'Nayarit'), ('19', 'Nuevo Leén'), ('20', 'Oaxaca'), ('21', 'Puebla'), ('22', 'Querétaro'), ('23', 'Quintana Roo'), ('24', 'San Luis Potosi'), ('25', 'Sinaloa'), ('26', 'Sonora'), ('27', 'Tabasco'), ('28', 'Tamaulipas'), ('29', 'Tlaxcala'), ('30', 'Veracruz de Ignacio de la Llave'), ('31', 'Yucatan'), ('32', 'Zacatecas'), ('33', 'Nacional'), ('34', 'Extranjero')]\n"
     ]
    }
   ],
   "source": [
    "datos = separar_clave_entidad_federativa(text)\n",
    "print(datos)"
   ]
  },
  {
   "cell_type": "code",
   "execution_count": 16,
   "metadata": {},
   "outputs": [],
   "source": [
    "df_clave = []\n",
    "df_entidad_federativa = []\n",
    "\n",
    "for clave, entidad_federativa in datos:\n",
    "    df_clave.append(clave)\n",
    "    df_entidad_federativa.append(entidad_federativa.strip())  # Eliminamos espacios al inicio del nombre"
   ]
  },
  {
   "cell_type": "code",
   "execution_count": 17,
   "metadata": {},
   "outputs": [
    {
     "name": "stdout",
     "output_type": "stream",
     "text": [
      "['CLAVE', '1', '2', '3', '4', '5', '6', '7', '8', '9', '10', '11', '12', '13', '14', '15', '16', '17', '18', '19', '20', '21', '22', '23', '24', '25', '26', '27', '28', '29', '30', '31', '32', '33', '34']\n"
     ]
    }
   ],
   "source": [
    "print(df_clave)"
   ]
  },
  {
   "cell_type": "code",
   "execution_count": 18,
   "metadata": {},
   "outputs": [
    {
     "name": "stdout",
     "output_type": "stream",
     "text": [
      "['ENTIDAD FEDERATIVA', 'Aguascalientes', 'Baja California', 'Baja California Sur', 'Campeche', 'Coahuila de Zaragoza', 'Colima', 'Chiapas', 'Chihuahua', 'Ciudad de México', 'Durango', 'Guanajuato', 'Guerrero', 'Hidalgo', 'Jalisco', 'Edo de México', 'Michoacan de Ocampo', 'Morelos', 'Nayarit', 'Nuevo Leén', 'Oaxaca', 'Puebla', 'Querétaro', 'Quintana Roo', 'San Luis Potosi', 'Sinaloa', 'Sonora', 'Tabasco', 'Tamaulipas', 'Tlaxcala', 'Veracruz de Ignacio de la Llave', 'Yucatan', 'Zacatecas', 'Nacional', 'Extranjero']\n"
     ]
    }
   ],
   "source": [
    "print(df_entidad_federativa)"
   ]
  },
  {
   "cell_type": "code",
   "execution_count": 20,
   "metadata": {},
   "outputs": [
    {
     "name": "stdout",
     "output_type": "stream",
     "text": [
      "   Clave\n",
      "0      1\n",
      "1      2\n",
      "2      3\n",
      "3      4\n",
      "4      5\n",
      "5      6\n",
      "6      7\n",
      "7      8\n",
      "8      9\n",
      "9     10\n",
      "10    11\n",
      "11    12\n",
      "12    13\n",
      "13    14\n",
      "14    15\n",
      "15    16\n",
      "16    17\n",
      "17    18\n",
      "18    19\n",
      "19    20\n",
      "20    21\n",
      "21    22\n",
      "22    23\n",
      "23    24\n",
      "24    25\n",
      "25    26\n",
      "26    27\n",
      "27    28\n",
      "28    29\n",
      "29    30\n",
      "30    31\n",
      "31    32\n",
      "32    33\n",
      "33    34\n"
     ]
    }
   ],
   "source": [
    "# Crear un DataFrame\n",
    "df_clave = pd.DataFrame(df_clave, columns=[\"Clave\"])\n",
    "\n",
    "# Eliminar la primera fila\n",
    "df_clave = df_clave.drop(index=0).reset_index(drop=True)\n",
    "\n",
    "# Mostrar el DataFrame\n",
    "print(df_clave)"
   ]
  },
  {
   "cell_type": "code",
   "execution_count": 21,
   "metadata": {},
   "outputs": [
    {
     "name": "stdout",
     "output_type": "stream",
     "text": [
      "                 Entidad_Federativa\n",
      "0                    Aguascalientes\n",
      "1                   Baja California\n",
      "2               Baja California Sur\n",
      "3                          Campeche\n",
      "4              Coahuila de Zaragoza\n",
      "5                            Colima\n",
      "6                           Chiapas\n",
      "7                         Chihuahua\n",
      "8                  Ciudad de México\n",
      "9                           Durango\n",
      "10                       Guanajuato\n",
      "11                         Guerrero\n",
      "12                          Hidalgo\n",
      "13                          Jalisco\n",
      "14                    Edo de México\n",
      "15              Michoacan de Ocampo\n",
      "16                          Morelos\n",
      "17                          Nayarit\n",
      "18                       Nuevo Leén\n",
      "19                           Oaxaca\n",
      "20                           Puebla\n",
      "21                        Querétaro\n",
      "22                     Quintana Roo\n",
      "23                  San Luis Potosi\n",
      "24                          Sinaloa\n",
      "25                           Sonora\n",
      "26                          Tabasco\n",
      "27                       Tamaulipas\n",
      "28                         Tlaxcala\n",
      "29  Veracruz de Ignacio de la Llave\n",
      "30                          Yucatan\n",
      "31                        Zacatecas\n",
      "32                         Nacional\n",
      "33                       Extranjero\n"
     ]
    }
   ],
   "source": [
    "# Crear un DataFrame\n",
    "df_entidad_federativa = pd.DataFrame(df_entidad_federativa, columns=[\"Entidad_Federativa\"])\n",
    "\n",
    "# Eliminar la primera fila\n",
    "df_entidad_federativa = df_entidad_federativa.drop(index=0).reset_index(drop=True)\n",
    "\n",
    "# Mostrar el DataFrame\n",
    "print(df_entidad_federativa)"
   ]
  },
  {
   "cell_type": "code",
   "execution_count": 25,
   "metadata": {},
   "outputs": [
    {
     "name": "stdout",
     "output_type": "stream",
     "text": [
      "   Clave               Entidad_Federativa\n",
      "0      1                   Aguascalientes\n",
      "1      2                  Baja California\n",
      "2      3              Baja California Sur\n",
      "3      4                         Campeche\n",
      "4      5             Coahuila de Zaragoza\n",
      "5      6                           Colima\n",
      "6      7                          Chiapas\n",
      "7      8                        Chihuahua\n",
      "8      9                             CDMX\n",
      "9     10                          Durango\n",
      "10    11                       Guanajuato\n",
      "11    12                         Guerrero\n",
      "12    13                          Hidalgo\n",
      "13    14                          Jalisco\n",
      "14    15                           EdoMéx\n",
      "15    16              Michoacan de Ocampo\n",
      "16    17                          Morelos\n",
      "17    18                          Nayarit\n",
      "18    19                       Nuevo Leén\n",
      "19    20                           Oaxaca\n",
      "20    21                           Puebla\n",
      "21    22                        Querétaro\n",
      "22    23                     Quintana Roo\n",
      "23    24                  San Luis Potosi\n",
      "24    25                          Sinaloa\n",
      "25    26                           Sonora\n",
      "26    27                          Tabasco\n",
      "27    28                       Tamaulipas\n",
      "28    29                         Tlaxcala\n",
      "29    30  Veracruz de Ignacio de la Llave\n",
      "30    31                          Yucatan\n",
      "31    32                        Zacatecas\n",
      "32    33                         Nacional\n",
      "33    34                       Extranjero\n"
     ]
    }
   ],
   "source": [
    "df = pd.concat([df_clave, df_entidad_federativa], axis=1)\n",
    "df['Entidad_Federativa'] = df['Entidad_Federativa'].replace({'Ciudad de México': 'CDMX', 'Edo de México': 'EdoMéx'})\n",
    "# Mostrar el DataFrame resultante\n",
    "print(df)"
   ]
  },
  {
   "cell_type": "code",
   "execution_count": 26,
   "metadata": {},
   "outputs": [
    {
     "name": "stdout",
     "output_type": "stream",
     "text": [
      "DataFrame guardado en entidad_federativa.csv\n"
     ]
    }
   ],
   "source": [
    "# Guardar el DataFrame en un archivo CSV\n",
    "df.to_csv('entidad_federativa.csv', index=False)\n",
    "\n",
    "print(\"DataFrame guardado en entidad_federativa.csv\")"
   ]
  }
 ],
 "metadata": {
  "kernelspec": {
   "display_name": "base",
   "language": "python",
   "name": "python3"
  },
  "language_info": {
   "codemirror_mode": {
    "name": "ipython",
    "version": 3
   },
   "file_extension": ".py",
   "mimetype": "text/x-python",
   "name": "python",
   "nbconvert_exporter": "python",
   "pygments_lexer": "ipython3",
   "version": "3.12.2"
  }
 },
 "nbformat": 4,
 "nbformat_minor": 2
}
