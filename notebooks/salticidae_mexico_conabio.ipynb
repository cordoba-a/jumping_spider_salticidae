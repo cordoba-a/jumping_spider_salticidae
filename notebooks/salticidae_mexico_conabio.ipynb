{
 "cells": [
  {
   "cell_type": "markdown",
   "metadata": {},
   "source": [
    "## Importación de librerías"
   ]
  },
  {
   "cell_type": "code",
   "execution_count": 69,
   "metadata": {},
   "outputs": [],
   "source": [
    "# importamos las librerias necesarias\n",
    "import pandas as pd\n",
    "import numpy as np\n",
    "import matplotlib.pyplot as plt\n",
    "import seaborn as sns\n",
    "from wordcloud import WordCloud, ImageColorGenerator\n",
    "import warnings\n",
    "warnings.filterwarnings(\"ignore\")"
   ]
  },
  {
   "cell_type": "markdown",
   "metadata": {},
   "source": [
    "## Carga de archivos CSV"
   ]
  },
  {
   "cell_type": "code",
   "execution_count": 70,
   "metadata": {},
   "outputs": [],
   "source": [
    "# cargar el documento csv con pd.read_csv, creando el dataframe\n",
    "df_salticidae_mexico_conabio = pd.read_csv('/Users/stam/Documents/Documents_MacBook_Eduardo/GitHub/jumping_spider_salticidae/limpieza/salticidae_mexico_conabio.csv')"
   ]
  },
  {
   "cell_type": "markdown",
   "metadata": {},
   "source": [
    "## Análizis exploratorio"
   ]
  },
  {
   "cell_type": "code",
   "execution_count": null,
   "metadata": {},
   "outputs": [],
   "source": [
    "# datos cargados\n",
    "# muestra las primeras filas del dataframe\n",
    "df_salticidae_mexico_conabio.head(3)"
   ]
  },
  {
   "cell_type": "code",
   "execution_count": null,
   "metadata": {},
   "outputs": [],
   "source": [
    "# dimensión del dataframe\n",
    "print(f\"Número de filas: {df_salticidae_mexico_conabio.shape[0]}\")\n",
    "print(f\"Número de columnas: {df_salticidae_mexico_conabio.shape[1]}\")"
   ]
  },
  {
   "cell_type": "markdown",
   "metadata": {},
   "source": [
    "## Arañas salticidae en México"
   ]
  },
  {
   "cell_type": "code",
   "execution_count": null,
   "metadata": {},
   "outputs": [],
   "source": [
    "paisoriginal_df = df_salticidae_mexico_conabio['paisoriginal'].value_counts()\n",
    "\n",
    "# word cloud\n",
    "# generar el texto a partir de generovalido \n",
    "wordcloud = WordCloud(width=800, height=400, background_color='white').generate_from_frequencies(paisoriginal_df)\n",
    "\n",
    "# mostrar la imagen de la nube de palabras\n",
    "plt.figure(figsize=(10, 5))\n",
    "plt.imshow(wordcloud, interpolation='bilinear')\n",
    "plt.axis('off')  # ocultar los ejes\n",
    "plt.show()"
   ]
  },
  {
   "cell_type": "code",
   "execution_count": 74,
   "metadata": {},
   "outputs": [],
   "source": [
    "# crear una paleta de colores con 'viridis'\n",
    "colors = sns.color_palette('viridis', n_colors=10)[::-1]"
   ]
  },
  {
   "cell_type": "code",
   "execution_count": null,
   "metadata": {},
   "outputs": [],
   "source": [
    "#¿Cómo se distribuyen las arañas por género?\n",
    "# Contar el número de especies por género\n",
    "\n",
    "# Eliminar filas donde 'especievalida' contiene \"sp.\"\n",
    "generos_mas_comunes = df_salticidae_mexico_conabio[~df_salticidae_mexico_conabio['especievalida'].str.contains(\"sp.\", na=False)]\n",
    "\n",
    "# Contar el número de especies por género después de eliminar las filas\n",
    "generos_mas_comunes_df = generos_mas_comunes['generovalido'].value_counts()\n",
    "\n",
    "# Mostrar los géneros más comunes\n",
    "print(\"Géneros más comunes en México:\")\n",
    "print(generos_mas_comunes_df.head(10))"
   ]
  },
  {
   "cell_type": "code",
   "execution_count": null,
   "metadata": {},
   "outputs": [],
   "source": [
    "#¿Cuántos géneros únicos de Salticidae hay en México?\n",
    "generos_unicos = df_salticidae_mexico_conabio['generovalido'].nunique()\n",
    "print(f\"Géneros únicos de Salticidae en México: {generos_unicos}\")"
   ]
  },
  {
   "cell_type": "code",
   "execution_count": null,
   "metadata": {},
   "outputs": [],
   "source": [
    "generos_mas_comunes_df.head(10).plot(kind='barh', color=colors, figsize=(10, 6))\n",
    "plt.title('Géneros más diversos de Salticidae en México')\n",
    "plt.xlabel('Cantidad de especies')\n",
    "plt.ylabel('Género')\n",
    "plt.grid(axis='x', linestyle='--', alpha=0.7)\n",
    "plt.tight_layout()\n",
    "plt.show()"
   ]
  },
  {
   "cell_type": "code",
   "execution_count": null,
   "metadata": {},
   "outputs": [],
   "source": [
    "generos_mas_comunes_df.head(10).plot(kind='pie', autopct='%1.1f%%',colors=colors, figsize=(8, 8), startangle=90)\n",
    "plt.title('Proporción de géneros de Salticidae en México')\n",
    "plt.ylabel('')\n",
    "plt.show()"
   ]
  },
  {
   "cell_type": "code",
   "execution_count": null,
   "metadata": {},
   "outputs": [],
   "source": [
    "# word cloud\n",
    "# generar el texto a partir de generovalido\n",
    "wordcloud = WordCloud(width=800, height=400, background_color='white').generate_from_frequencies(generos_mas_comunes_df)\n",
    "\n",
    "# mostrar la imagen de la nube de palabras\n",
    "plt.figure(figsize=(10, 5))\n",
    "plt.imshow(wordcloud, interpolation='bilinear')\n",
    "plt.axis('off')  # ocultar los ejes\n",
    "plt.show()"
   ]
  },
  {
   "cell_type": "code",
   "execution_count": null,
   "metadata": {},
   "outputs": [],
   "source": [
    "#¿Cuántas especies únicas hay en México?\n",
    "# Contar especies únicas\n",
    "especies_unicas = generos_mas_comunes['especievalida'].nunique()\n",
    "print(f\"Cantidad de especies únicas en México: {especies_unicas}\")"
   ]
  },
  {
   "cell_type": "code",
   "execution_count": null,
   "metadata": {},
   "outputs": [],
   "source": [
    "especies_unicas_df = generos_mas_comunes['especievalida'].value_counts()\n",
    "especies_unicas_df.head(10)"
   ]
  },
  {
   "cell_type": "code",
   "execution_count": null,
   "metadata": {},
   "outputs": [],
   "source": [
    "# word cloud\n",
    "# generar el texto a partir de especiesvalido\n",
    "wordcloud = WordCloud(width=800, height=400, background_color='white').generate_from_frequencies(especies_unicas_df)\n",
    "\n",
    "# mostrar la imagen de la nube de palabras\n",
    "plt.figure(figsize=(10, 5))\n",
    "plt.imshow(wordcloud, interpolation='bilinear')\n",
    "plt.axis('off')  # ocultar los ejes\n",
    "plt.show()"
   ]
  },
  {
   "cell_type": "markdown",
   "metadata": {},
   "source": [
    "### Distribución"
   ]
  },
  {
   "cell_type": "code",
   "execution_count": null,
   "metadata": {},
   "outputs": [],
   "source": []
  }
 ],
 "metadata": {
  "kernelspec": {
   "display_name": "base",
   "language": "python",
   "name": "python3"
  },
  "language_info": {
   "codemirror_mode": {
    "name": "ipython",
    "version": 3
   },
   "file_extension": ".py",
   "mimetype": "text/x-python",
   "name": "python",
   "nbconvert_exporter": "python",
   "pygments_lexer": "ipython3",
   "version": "3.12.2"
  }
 },
 "nbformat": 4,
 "nbformat_minor": 2
}
